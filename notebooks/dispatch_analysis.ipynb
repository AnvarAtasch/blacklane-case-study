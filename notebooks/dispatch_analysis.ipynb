{
 "cells": [
  {
   "cell_type": "markdown",
   "metadata": {},
   "source": [
    "# Blacklane Dispatching Analysis\n",
    "\n",
    "This notebook analyzes the taxi service data to optimize dispatching decisions between pre-purchased shifts and the auction marketplace."
   ]
  },
  {
   "cell_type": "code",
   "execution_count": null,
   "metadata": {},
   "source": [
    "import pandas as pd\n",
    "import numpy as np\n",
    "import matplotlib.pyplot as plt\n",
    "import seaborn as sns\n",
    "from datetime import datetime\n",
    "\n",
    "# Set plotting style\n",
    "plt.style.use('seaborn')\n",
    "sns.set_palette('viridis')"
   ]
  },
  {
   "cell_type": "markdown",
   "metadata": {},
   "source": [
    "## 1. Load and Inspect Data"
   ]
  },
  {
   "cell_type": "code",
   "execution_count": null,
   "metadata": {},
   "source": [
    "# Load data\n",
    "shifts_df = pd.read_csv('../data/raw/disp_pre_purchased_shifts.csv')\n",
    "bookings_df = pd.read_csv('../data/raw/disp_incoming_bookings.csv')\n",
    "auction_df = pd.read_csv('../data/raw/disp_historical_auction_data.csv')\n",
    "\n",
    "# Display basic information\n",
    "print(\"\\nShifts Data Info:\")\n",
    "print(shifts_df.info())\n",
    "print(\"\\nBookings Data Info:\")\n",
    "print(bookings_df.info())\n",
    "print(\"\\nAuction Data Info:\")\n",
    "print(auction_df.info())"
   ]
  },
  {
   "cell_type": "markdown",
   "metadata": {},
   "source": [
    "## 2. Data Preprocessing"
   ]
  },
  {
   "cell_type": "code",
   "execution_count": null,
   "metadata": {},
   "source": [
    "# Convert datetime columns\n",
    "shifts_df['shift_date'] = pd.to_datetime(shifts_df['shift_date'])\n",
    "bookings_df['booked_start_at'] = pd.to_datetime(bookings_df['booked_start_at'])\n",
    "\n",
    "# Extract time features\n",
    "bookings_df['day_of_week'] = bookings_df['booked_start_at'].dt.day_name()\n",
    "bookings_df['hour_of_day'] = bookings_df['booked_start_at'].dt.hour\n",
    "\n",
    "# Merge bookings with auction data\n",
    "merged_df = bookings_df.merge(auction_df, on='booking_uuid', how='left')"
   ]
  },
  {
   "cell_type": "markdown",
   "metadata": {},
   "source": [
    "## 3. Hypothesis 1: Demand Patterns Analysis"
   ]
  },
  {
   "cell_type": "code",
   "execution_count": null,
   "metadata": {},
   "source": [
    "# Analyze daily patterns\n",
    "day_demand = bookings_df['day_of_week'].value_counts().reindex([\n",
    "    'Monday', 'Tuesday', 'Wednesday', 'Thursday', 'Friday', 'Saturday', 'Sunday'\n",
    "])\n",
    "\n",
    "plt.figure(figsize=(12, 6))\n",
    "sns.barplot(x=day_demand.index, y=day_demand.values)\n",
    "plt.title('Booking Demand by Day of Week')\n",
    "plt.xlabel('Day of Week')\n",
    "plt.ylabel('Number of Bookings')\n",
    "plt.xticks(rotation=45)\n",
    "plt.tight_layout()\n",
    "plt.show()\n",
    "\n",
    "# Analyze hourly patterns\n",
    "hour_demand = bookings_df['hour_of_day'].value_counts().sort_index()\n",
    "\n",
    "plt.figure(figsize=(12, 6))\n",
    "sns.lineplot(x=hour_demand.index, y=hour_demand.values, marker='o')\n",
    "plt.title('Booking Demand by Hour of Day')\n",
    "plt.xlabel('Hour of Day')\n",
    "plt.ylabel('Number of Bookings')\n",
    "plt.xticks(range(0, 24))\n",
    "plt.tight_layout()\n",
    "plt.show()"
   ]
  },
  {
   "cell_type": "markdown",
   "metadata": {},
   "source": [
    "## 4. Hypothesis 2: Cost Analysis"
   ]
  },
  {
   "cell_type": "code",
   "execution_count": null,
   "metadata": {},
   "source": [
    "# Calculate shift costs\n",
    "shifts_df['total_shift_cost'] = shifts_df['shift_working_hours'] * shifts_df['hourly_rate_eur']\n",
    "total_shift_cost = shifts_df['total_shift_cost'].sum()\n",
    "avg_hourly_rate = shifts_df['hourly_rate_eur'].mean()\n",
    "\n",
    "# Analyze auction prices\n",
    "avg_auction_price = auction_df['auction_winning_price'].mean()\n",
    "auction_price_std = auction_df['auction_winning_price'].std()\n",
    "\n",
    "print(f\"Average Hourly Rate (Shifts): €{avg_hourly_rate:.2f}\")\n",
    "print(f\"Average Auction Price: €{avg_auction_price:.2f} (±{auction_price_std:.2f})\")\n",
    "\n",
    "# Compare costs per booking\n",
    "bookings_with_costs = merged_df.merge(\n",
    "    shifts_df[['shift_id', 'chauffeur_uuid', 'hourly_rate_eur']], \n",
    "    on='chauffeur_uuid', \n",
    "    how='left'\n",
    ")\n",
    "\n",
    "# Calculate costs\n",
    "bookings_with_costs['shift_cost'] = (\n",
    "    bookings_with_costs['booked_duration'] / 60 * \n",
    "    bookings_with_costs['hourly_rate_eur']\n",
    ")\n",
    "\n",
    "# Plot cost distribution\n",
    "plt.figure(figsize=(12, 6))\n",
    "plt.hist(\n",
    "    [bookings_with_costs['shift_cost'].dropna(), \n",
    "     bookings_with_costs['auction_winning_price'].dropna()],\n",
    "    label=['Shift Cost', 'Auction Price'],\n",
    "    bins=50,\n",
    "    alpha=0.5\n",
    ")\n",
    "plt.title('Distribution of Costs: Shifts vs Auctions')\n",
    "plt.xlabel('Cost (EUR)')\n",
    "plt.ylabel('Frequency')\n",
    "plt.legend()\n",
    "plt.tight_layout()\n",
    "plt.show()"
   ]
  },
  {
   "cell_type": "markdown",
   "metadata": {},
   "source": [
    "## 5. Hypothesis 3: Geographic Analysis"
   ]
  },
  {
   "cell_type": "code",
   "execution_count": null,
   "metadata": {},
   "source": [
    "from sklearn.cluster import KMeans\n",
    "\n",
    "# Prepare location data\n",
    "locations = bookings_with_costs[[\n",
    "    'pickup_longitude', 'pickup_latitude',\n",
    "    'dropoff_longitude', 'dropoff_latitude'\n",
    "]].dropna()\n",
    "\n",
    "# Cluster pickup locations\n",
    "pickup_coords = locations[['pickup_longitude', 'pickup_latitude']].values\n",
    "kmeans = KMeans(n_clusters=5, random_state=42)\n",
    "locations['pickup_cluster'] = kmeans.fit_predict(pickup_coords)\n",
    "\n",
    "# Analyze prices by cluster\n",
    "cluster_prices = bookings_with_costs.groupby('pickup_cluster').agg({\n",
    "    'auction_winning_price': ['mean', 'std', 'count']\n",
    "}).round(2)\n",
    "\n",
    "print(\"\\nAuction Prices by Location Cluster:\")\n",
    "print(cluster_prices)\n",
    "\n",
    "# Visualize clusters\n",
    "plt.figure(figsize=(12, 8))\n",
    "scatter = plt.scatter(\n",
    "    locations['pickup_longitude'],\n",
    "    locations['pickup_latitude'],\n",
    "    c=locations['pickup_cluster'],\n",
    "    cmap='viridis',\n",
    "    alpha=0.6\n",
    ")\n",
    "plt.title('Pickup Location Clusters')\n",
    "plt.xlabel('Longitude')\n",
    "plt.ylabel('Latitude')\n",
    "plt.colorbar(scatter)\n",
    "plt.tight_layout()\n",
    "plt.show()"
   ]
  }
 ],
 "metadata": {
  "kernelspec": {
   "display_name": "Python 3",
   "language": "python",
   "name": "python3"
  },
  "language_info": {
   "codemirror_mode": {
    "name": "ipython",
    "version": 3
   },
   "file_extension": ".py",
   "mimetype": "text/x-python",
   "name": "python",
   "nbconvert_exporter": "python",
   "pygments_lexer": "ipython3",
   "version": "3.8.0"
  }
 },
 "nbformat": 4,
 "nbformat_minor": 4
}
